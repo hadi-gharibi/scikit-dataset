{
 "cells": [
  {
   "cell_type": "markdown",
   "metadata": {},
   "source": [
    "# Introduction to scikit-dataset: A Simple Dataset Management Library\n",
    "\n",
    "**scikit-dataset** is a Python library designed to simplify the management and manipulation of datasets. With scikit-dataset, you can easily create, access, and manipulate datasets using a variety of data structures such as lists, NumPy arrays, different types of indexable dataframes, and more in a simple and intuitive way.\n",
    "\n",
    "## Getting Started\n",
    "\n",
    "Let's dive into the basics of using skdataset to create and work with datasets.\n",
    "\n"
   ]
  },
  {
   "cell_type": "markdown",
   "metadata": {},
   "source": [
    "\n",
    "### Creating a Dataset\n",
    "\n",
    "To create a dataset with skdataset, you can pass data in various formats such as lists, NumPy arrays, Pandas Series, and DataFrames. Here's an example:\n",
    "\n"
   ]
  },
  {
   "cell_type": "code",
   "execution_count": null,
   "metadata": {},
   "outputs": [],
   "source": [
    "from skdataset import Dataset\n",
    "import numpy as np\n",
    "import pandas as pd\n",
    "\n",
    "\n",
    "dataset = Dataset(\n",
    "    a = range(100), # a iterable sequence that supports len()\n",
    "    b = list(range(100)), # a list\n",
    "    c = np.arange(100), # a numpy array\n",
    "    d = pd.Series(np.arange(100)), # a pandas Series\n",
    "    e = pd.DataFrame({'col1': np.arange(100), 'col2': np.arange(100)}), # a pandas DataFrame\n",
    "    name = 'example dataset'\n",
    "    description= 'this is an example dataset'\n",
    ")\n"
   ]
  },
  {
   "cell_type": "markdown",
   "metadata": {},
   "source": [
    "As you can see, there is no limit to how you would define the variable names. Here we have used the variable names as `a`, `b`, `c`, `d`, and `e`. You can use any variable names as per your requirement. The only limitation is that all of the variables should be of the same length.\n",
    "\n",
    "beside that, you can also add `name` `description` and `metadata` to the dataset, which can be useful for documentation and organization purposes.\n",
    "\n",
    "`Dataset` acts like a dictionary where the keys are the variable names and the values are the data. You can access the data using the variable names as keys or as attributes of the dataset object.\n"
   ]
  },
  {
   "cell_type": "code",
   "execution_count": null,
   "metadata": {},
   "outputs": [],
   "source": [
    "isinstance(dataset, dict)"
   ]
  },
  {
   "cell_type": "markdown",
   "metadata": {},
   "source": [
    "Here are all the keys of the dataset, and as you can see, `name` and `description` are not included in the keys, only data variables are included.\n"
   ]
  },
  {
   "cell_type": "code",
   "execution_count": null,
   "metadata": {},
   "outputs": [],
   "source": [
    "dataset.keys()"
   ]
  },
  {
   "cell_type": "markdown",
   "metadata": {},
   "source": [
    "But unlike dictionaries, you can also access the data using the variable names as well:"
   ]
  },
  {
   "cell_type": "code",
   "execution_count": null,
   "metadata": {},
   "outputs": [],
   "source": [
    "dataset.e"
   ]
  },
  {
   "cell_type": "code",
   "execution_count": null,
   "metadata": {},
   "outputs": [],
   "source": [
    "dataset['a'] == dataset.a"
   ]
  },
  {
   "cell_type": "markdown",
   "metadata": {},
   "source": [
    "There are some major differences between the `Dataset` object and a dictionary. One of these differences is if you loop through the dataset object, it will return the values of the dataset in the same order as they were added to the dataset object. But if you loop through a dictionary, it will return the keys."
   ]
  },
  {
   "cell_type": "code",
   "execution_count": null,
   "metadata": {},
   "outputs": [],
   "source": [
    "my_dcit = dict(a=1, b=2, c=3)\n",
    "my_dataset = Dataset(a=1, b=2, c=3)\n",
    "\n",
    "print(\"Looping over normal dict example:\")\n",
    "for key in my_dcit:\n",
    "    print('   ',key,)\n",
    "    \n",
    "print(\"Looping over Dataset example:\")\n",
    "for value in my_dataset:\n",
    "    print('   ', value,)"
   ]
  },
  {
   "cell_type": "markdown",
   "metadata": {},
   "source": [
    "As you might have noticed, the dataset object not only returned the values but also cast them to list. The resean behind this is that the dataset object need to be indexable and a normal integer is not. So, it wraps the values in a list to make them indexable."
   ]
  },
  {
   "cell_type": "markdown",
   "metadata": {},
   "source": [
    "\n",
    "### Accessing Data\n",
    "\n",
    "#### Indexing and Slicing\n",
    "\n",
    "Once you have created a dataset, you can access its elements using indexing and slicing or masking. Here's an example:\n",
    "\n",
    "\n",
    "\n"
   ]
  },
  {
   "cell_type": "code",
   "execution_count": null,
   "metadata": {},
   "outputs": [],
   "source": [
    "dataset[5]"
   ]
  },
  {
   "cell_type": "code",
   "execution_count": null,
   "metadata": {},
   "outputs": [],
   "source": [
    "mask = [True] * 5 + [False] * 95\n",
    "dataset[mask]"
   ]
  },
  {
   "cell_type": "code",
   "execution_count": null,
   "metadata": {},
   "outputs": [],
   "source": [
    "dataset[:5]"
   ]
  },
  {
   "cell_type": "code",
   "execution_count": null,
   "metadata": {},
   "outputs": [],
   "source": [
    "type(dataset[:5])"
   ]
  },
  {
   "cell_type": "markdown",
   "metadata": {},
   "source": [
    "As you see, it returns a new `Dataset` object with the selected rows.\n",
    "\n",
    "#### Selecting variables\n",
    "\n",
    "Since it is a dictionary-like structure, you can access the data using the variable names as keys. However, you can also access the data by passing a list of variable names as keys. Here is an example:\n"
   ]
  },
  {
   "cell_type": "code",
   "execution_count": null,
   "metadata": {},
   "outputs": [],
   "source": [
    "dataset[['d', 'e']]"
   ]
  },
  {
   "cell_type": "markdown",
   "metadata": {},
   "source": [
    "#### 2D Indexing\n",
    "\n",
    "You can also access the data using 2D indexing. Remember that the first index is for the rows(shared between all of the variables) and the second index is for variables. Here is an example:"
   ]
  },
  {
   "cell_type": "code",
   "execution_count": null,
   "metadata": {},
   "outputs": [],
   "source": [
    "dataset[:10, ['b', 'c']]"
   ]
  },
  {
   "cell_type": "markdown",
   "metadata": {},
   "source": [
    "# Conclusion\n",
    "\n",
    "In this tutorial, you've learned the basics of using scikit-dataset to create and manipulate datasets in Python. skdataset provides a convenient way to work with different types of data structures, making it easier to analyze and process datasets in your machine learning and data science projects."
   ]
  }
 ],
 "metadata": {
  "kernelspec": {
   "display_name": ".venv",
   "language": "python",
   "name": "python3"
  },
  "language_info": {
   "codemirror_mode": {
    "name": "ipython",
    "version": 3
   },
   "file_extension": ".py",
   "mimetype": "text/x-python",
   "name": "python",
   "nbconvert_exporter": "python",
   "pygments_lexer": "ipython3",
   "version": "3.11.5"
  }
 },
 "nbformat": 4,
 "nbformat_minor": 2
}
